{
 "cells": [
  {
   "cell_type": "markdown",
   "id": "01e366c3",
   "metadata": {},
   "source": [
    "Question 1. Write a program for flipping a coin 10,000 times and store the results in a list.\n",
    "After which, identify the number of streaks. (streak - a series of 5 or more\n",
    "heads or tails)"
   ]
  },
  {
   "cell_type": "code",
   "execution_count": 2,
   "id": "379f6e42",
   "metadata": {},
   "outputs": [
    {
     "name": "stdout",
     "output_type": "stream",
     "text": [
      "328\n"
     ]
    }
   ],
   "source": [
    "import random\n",
    "\n",
    "choices = ['heads',\n",
    "           'tails']\n",
    "    \n",
    "def count_streaks(results):\n",
    "    streaks, current_streak, current_count = 0,results[0],0\n",
    "    for i in range(len(results)):\n",
    "        if results[i]==current_streak:\n",
    "            current_count+=1\n",
    "        else:\n",
    "            if current_count>=5:\n",
    "                streaks+=1\n",
    "            current_streak, current_count = results[i],1 \n",
    "    return streaks\n",
    "\n",
    "results = random.choices(choices,k=10000)\n",
    "print(count_streaks(results))"
   ]
  },
  {
   "cell_type": "markdown",
   "id": "21f2bfca",
   "metadata": {},
   "source": [
    "Question 2: Write a program to take user inputs (number of swords, diamonds, gold coins,\n",
    "ropes and potions) for a video game and store them in a dictionary. After\n",
    "which print the following output."
   ]
  },
  {
   "cell_type": "code",
   "execution_count": 15,
   "id": "8032eaf2",
   "metadata": {
    "scrolled": true
   },
   "outputs": [
    {
     "name": "stdout",
     "output_type": "stream",
     "text": [
      "Enter the number of Swords: 1\n",
      "Enter the number of Diamonds: 1\n",
      "Enter the number of Gold Coins: 1\n",
      "Enter the number of Rope: 1\n",
      "Enter the number of Potions: 1\n",
      "Inventry:\n",
      "1 Swords\n",
      "1 Diamonds\n",
      "1 Gold Coins\n",
      "1 Rope\n",
      "1 Potions\n"
     ]
    }
   ],
   "source": [
    "Inputs = ['Swords','Diamonds','Gold Coins','Rope','Potions']\n",
    "Inventry = {}\n",
    "for Inputs in Inputs:\n",
    "    inventory[Inputs] = int(input('Enter the number of {}: '.format(Inputs)))\n",
    "print(\"Inventry:\")    \n",
    "for Inputs,cnt in inventory.items():\n",
    "    print(cnt,Inputs)\n",
    "  \n"
   ]
  },
  {
   "cell_type": "markdown",
   "id": "29bd2efa",
   "metadata": {},
   "source": [
    "Question 3. Repeat question 1 using arrays. "
   ]
  },
  {
   "cell_type": "code",
   "execution_count": 4,
   "id": "6c365588",
   "metadata": {},
   "outputs": [
    {
     "name": "stdout",
     "output_type": "stream",
     "text": [
      "343\n"
     ]
    }
   ],
   "source": [
    "import random\n",
    "import numpy \n",
    "\n",
    "choices =['heads',\n",
    "          'tails']\n",
    "array = numpy.array(choices)\n",
    "\n",
    "def count_streaks(results):\n",
    "    streaks, current_streak, current_count = 0,results[0],0\n",
    "    for i in range(len(results)):\n",
    "        if results[i]==current_streak:\n",
    "            current_count+=1\n",
    "        else:\n",
    "            if current_count>=5:\n",
    "                streaks+=1\n",
    "            current_streak, current_count = results[i],1 \n",
    "    return streaks\n",
    "\n",
    "results = random.choices(choices,k=10000)\n",
    "print(count_streaks(results))"
   ]
  },
  {
   "cell_type": "markdown",
   "id": "747013f3",
   "metadata": {},
   "source": [
    "4. Create a game with the following instructions: \n",
    "a. There are 3 players and 10 iterations.\n",
    "b. In each iteration, every player rolls a die.\n",
    "c. The winner of the game is the one who has the highest score when rolls\n",
    "from all the iterations are added"
   ]
  },
  {
   "cell_type": "code",
   "execution_count": 8,
   "id": "9cecb85b",
   "metadata": {},
   "outputs": [
    {
     "name": "stdout",
     "output_type": "stream",
     "text": [
      "Winner for the following game is Player 1 \n",
      "\n"
     ]
    }
   ],
   "source": [
    "import random\n",
    "num_iterations, num_players = 10,3\n",
    "scores = [0]*num_players\n",
    "for i in range(num_iterations):\n",
    "       for player in range(num_players):\n",
    "        scores[player] += random.randint(1,6) \n",
    "winner = max(enumerate(scores), key=lambda scores:scores[1])[0] + 1 \n",
    "print('Winner for the following game is Player {} \\n'.format(winner))   \n",
    " "
   ]
  }
 ],
 "metadata": {
  "kernelspec": {
   "display_name": "Python 3 (ipykernel)",
   "language": "python",
   "name": "python3"
  },
  "language_info": {
   "codemirror_mode": {
    "name": "ipython",
    "version": 3
   },
   "file_extension": ".py",
   "mimetype": "text/x-python",
   "name": "python",
   "nbconvert_exporter": "python",
   "pygments_lexer": "ipython3",
   "version": "3.9.7"
  }
 },
 "nbformat": 4,
 "nbformat_minor": 5
}
