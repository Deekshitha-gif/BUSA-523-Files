{
 "cells": [
  {
   "cell_type": "code",
   "execution_count": 19,
   "id": "82b10c0f",
   "metadata": {},
   "outputs": [
    {
     "name": "stdout",
     "output_type": "stream",
     "text": [
      "Deekshitha\n",
      "Sadhu\n",
      "India\n",
      "3.75\n",
      "23\n",
      "Business Analytics\n",
      "Good\n"
     ]
    }
   ],
   "source": [
    "class student:\n",
    "    def __init__(self, FirstName, LastName, Country, Grades, Credits,Major):\n",
    "        self.FirstName = FirstName\n",
    "        self.LastName = LastName\n",
    "        self.Country = Country\n",
    "        self.Grades = Grades\n",
    "        self.Credits = Credits\n",
    "        self.Major = Major\n",
    "FirstName = str(input())\n",
    "SecondName = str(input())\n",
    "Country = str(input())\n",
    "Grades = float(input())\n",
    "Credits = int(input())\n",
    "Major = str(input())\n",
    "\n",
    "if Grades >= 3.0 and Credits >= 20:\n",
    "    print(\"Good\")\n",
    "elif Grades >= 2.5 or Credits >=10 and Credits <20 :\n",
    "    print(\"Average\")\n",
    "elif Grades < 2.5:\n",
    "    print(\"Bad\")"
   ]
  },
  {
   "cell_type": "code",
   "execution_count": 1,
   "id": "80ae9de2",
   "metadata": {},
   "outputs": [
    {
     "name": "stdout",
     "output_type": "stream",
     "text": [
      "negative_positive_List= ([-6, -3, -2, -8], [5, 1, 9, 3])\n"
     ]
    }
   ],
   "source": [
    "List = [-6, 5, -3, -2, 1, 0, -8, 9, 3]\n",
    "def negative_positive(My_List):\n",
    "    Negative_List = []\n",
    "    Positive_List = []\n",
    "    for j in My_List:\n",
    "        if j < 0:\n",
    "            Negative_List.append(j)\n",
    "            \n",
    "        elif j > 0:\n",
    "            Positive_List.append(j)\n",
    "    return Negative_List, Positive_List\n",
    "    \n",
    "print(\"negative_positive_List=\",negative_positive(List))"
   ]
  },
  {
   "cell_type": "code",
   "execution_count": 18,
   "id": "8b5fce72",
   "metadata": {},
   "outputs": [
    {
     "name": "stdout",
     "output_type": "stream",
     "text": [
      "Enter Player's final score = 12\n",
      "All possibilities = [[2, 11], [3, 10], [3, 11], [4, 9], [4, 10], [4, 11], [5, 8], [5, 9], [5, 10], [5, 11], [6, 7], [6, 8], [6, 9], [6, 10], [6, 11], [7, 7], [7, 8], [7, 9], [7, 10], [7, 11], [8, 8], [8, 9], [8, 10], [8, 11], [9, 9], [9, 10], [9, 11], [10, 10], [10, 11]]\n"
     ]
    }
   ],
   "source": [
    "def all_possibilities(number):\n",
    "    ans = []\n",
    "    for i in range(1, 12):\n",
    "            \n",
    "        for j in range(i, 12):\n",
    "            if(number < i+j and i+j < 22):\n",
    "                ans.append([i, j])\n",
    "    print(\"All possibilities =\", ans)\n",
    "n = int(input(\"Enter Player's final score = \"))\n",
    "all_possibilities(n)"
   ]
  },
  {
   "cell_type": "code",
   "execution_count": null,
   "id": "e3c4f898",
   "metadata": {},
   "outputs": [],
   "source": [
    "%timeit negative_positive(My_List)\n",
    "%timeit all_possibilities(number)"
   ]
  }
 ],
 "metadata": {
  "kernelspec": {
   "display_name": "Python 3 (ipykernel)",
   "language": "python",
   "name": "python3"
  },
  "language_info": {
   "codemirror_mode": {
    "name": "ipython",
    "version": 3
   },
   "file_extension": ".py",
   "mimetype": "text/x-python",
   "name": "python",
   "nbconvert_exporter": "python",
   "pygments_lexer": "ipython3",
   "version": "3.9.7"
  }
 },
 "nbformat": 4,
 "nbformat_minor": 5
}
