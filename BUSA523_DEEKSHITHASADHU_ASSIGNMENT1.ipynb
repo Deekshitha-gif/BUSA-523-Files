{
 "cells": [
  {
   "cell_type": "code",
   "execution_count": 4,
   "id": "f7d48213",
   "metadata": {},
   "outputs": [
    {
     "name": "stdout",
     "output_type": "stream",
     "text": [
      "You have 5 chances to win\n",
      "Guess a number between 1 to 20\n",
      "1\n",
      "Guess a number between 1 to 20\n",
      "2\n",
      "Guess a number between 1 to 20\n",
      "3\n",
      "Guess a number between 1 to 20\n",
      "4\n",
      "You Win!!!\n"
     ]
    }
   ],
   "source": [
    "import random\n",
    "guesstaken = 0\n",
    "num = random.randint(1,20)\n",
    "print('You have 5 chances to win')\n",
    "while guesstaken < 5:\n",
    "    print('Guess a number between 1 to 20')\n",
    "    guess = int(input())\n",
    "    guesstaken = guesstaken+1\n",
    "    if guess == num:\n",
    "        print('You Win!!!')\n",
    "        break\n",
    "else :\n",
    "        print('\\n the number is %d' %num)\n",
    "        print('You Lose')"
   ]
  },
  {
   "cell_type": "code",
   "execution_count": 3,
   "id": "07d1cfd1",
   "metadata": {},
   "outputs": [
    {
     "name": "stdout",
     "output_type": "stream",
     "text": [
      "You have 5 chances to win\n",
      "Guess a number between 1 to 20\n",
      "1\n",
      "Guess a higher number\n",
      "Guess a number between 1 to 20\n",
      "2\n",
      "Guess a higher number\n",
      "Guess a number between 1 to 20\n",
      "3\n",
      "Guess a higher number\n",
      "Guess a number between 1 to 20\n",
      "4\n",
      "Guess a higher number\n",
      "Guess a number between 1 to 20\n",
      "5\n",
      "Guess a higher number\n",
      "\n",
      " the number 15\n",
      "You Lose\n"
     ]
    }
   ],
   "source": [
    "import random\n",
    "guesstaken = 0\n",
    "num = random.randint(1,20)\n",
    "print('You have 5 chances to win')\n",
    "while guesstaken < 5:\n",
    "    print('Guess a number between 1 to 20')\n",
    "    guess = int(input())\n",
    "    guesstaken = guesstaken+1\n",
    "    if guess < num:\n",
    "        print ('Guess a higher number')\n",
    "    elif guess > num:\n",
    "        print ('Guess a lower number')\n",
    "    elif guess == num:\n",
    "        print('You Win!!!')\n",
    "        break\n",
    "else:\n",
    "        print ('\\n the number %d' %num)\n",
    "        print('You Lose')"
   ]
  },
  {
   "cell_type": "code",
   "execution_count": 1,
   "id": "1ffabbbe",
   "metadata": {},
   "outputs": [
    {
     "name": "stdout",
     "output_type": "stream",
     "text": [
      "Enter your move: Rock, Paper, Scissors, Lizard or Spock\n",
      "Rock\n",
      "Its a Tie\n"
     ]
    }
   ],
   "source": [
    "import random\n",
    "print(\"Enter your move: Rock, Paper, Scissors, Lizard or Spock\")\n",
    "user = input()\n",
    "number = random.randint(1,5)\n",
    "if number == 1 :\n",
    "  computer = 'Rock'\n",
    "elif number == 2:\n",
    "  computer = 'Paper'\n",
    "elif number == 3:\n",
    "  computer = 'Scissors'\n",
    "elif number == 4:\n",
    "  computer = 'Lizard'\n",
    "elif number == 5:\n",
    "  computer = 'Spock'\n",
    "if user == computer :\n",
    "  print ('Its a Tie')\n",
    "elif user == 'Rock' and computer == 'Scissors':\n",
    "  print('You, Win')\n",
    "elif user == 'Rock' and computer == 'Lizard':\n",
    "  print('You, Win')\n",
    "elif user == 'Lizard' and computer == 'Spock':\n",
    "  print('You, Win')\n",
    "elif user == 'Lizard' and computer == 'Paper':\n",
    "  print('You, Win')\n",
    "elif user == 'Spock' and computer == 'Siccors':\n",
    "  print('You, Win')\n",
    "elif user == 'Spock' and computer == 'Rock':\n",
    "  print('You, Win')\n",
    "elif user == 'Scissors' and computer == 'Lizard':\n",
    "  print('You, Win')\n",
    "elif user == 'Scissors' and computer == 'Paper':\n",
    "  print('You, Win')\n",
    "elif user == 'Paper' and computer == 'Spock':\n",
    "  print('You, Win')\n",
    "elif user == 'Paper' and computer == 'Rock':\n",
    "  print('You, Win')\n",
    "elif user == 'Rock' and computer == 'Spock':\n",
    "  print('You, Lose')\n",
    "elif user == 'Rock' and computer == 'Paper':\n",
    "  print('You, Lose')  \n",
    "elif user == 'Lizard' and computer == 'Scissor':\n",
    "  print('You, Lose')  \n",
    "elif user == 'Lizard' and computer == 'Rock':\n",
    "  print('You, Lose')  \n",
    "elif user == 'Spock' and computer == 'Lizard':\n",
    "  print('You, Lose')\n",
    "elif user == 'Spock' and computer == 'Paper':\n",
    "  print('You, Lose')\n",
    "elif user == 'Paper' and computer == 'Lizard':\n",
    "  print('You, Lose')\n",
    "elif user == 'Paper' and computer == 'Sicssor':\n",
    "  print('You, Lose')\n",
    "else:\n",
    "  print('Invalid, entry')\n"
   ]
  },
  {
   "cell_type": "code",
   "execution_count": 1,
   "id": "aa8f60ee",
   "metadata": {},
   "outputs": [],
   "source": [
    "def separate_plus_minus(numbers_list):\n",
    "    positive = []\n",
    "    negative = []\n",
    "    for number in numbers_list:\n",
    "        print(\"enter numbers\")\n",
    "        if number >= 0:\n",
    "             print(positive.append(number))\n",
    "        else:\n",
    "             print(negative.append(number))\n",
    "    return positive, negative\n",
    "\n"
   ]
  },
  {
   "cell_type": "code",
   "execution_count": null,
   "id": "5e1e495d",
   "metadata": {},
   "outputs": [],
   "source": []
  }
 ],
 "metadata": {
  "kernelspec": {
   "display_name": "Python 3 (ipykernel)",
   "language": "python",
   "name": "python3"
  },
  "language_info": {
   "codemirror_mode": {
    "name": "ipython",
    "version": 3
   },
   "file_extension": ".py",
   "mimetype": "text/x-python",
   "name": "python",
   "nbconvert_exporter": "python",
   "pygments_lexer": "ipython3",
   "version": "3.9.7"
  }
 },
 "nbformat": 4,
 "nbformat_minor": 5
}
